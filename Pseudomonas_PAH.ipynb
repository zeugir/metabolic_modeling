{
 "cells": [
  {
   "cell_type": "code",
   "execution_count": 3,
   "id": "b7a08fa2",
   "metadata": {},
   "outputs": [],
   "source": [
    "import cobra\n",
    "from cobra import Model, Reaction, Metabolite\n",
    "import escher\n",
    "import escher.urls\n",
    "import json\n",
    "import os\n",
    "from IPython.display import HTML\n",
    "from cobra.io import load_model\n",
    "from cobra.flux_analysis.loopless import add_loopless, loopless_solution\n",
    "from cobra.flux_analysis import pfba"
   ]
  },
  {
   "cell_type": "code",
   "execution_count": 1,
   "id": "e7c51259",
   "metadata": {},
   "outputs": [
    {
     "name": "stdout",
     "output_type": "stream",
     "text": [
      "--2022-08-14 11:56:48--  http://bigg.ucsd.edu/static/models/iJN746.xml\n",
      "Resolving bigg.ucsd.edu (bigg.ucsd.edu)... 169.228.33.117\n",
      "Connecting to bigg.ucsd.edu (bigg.ucsd.edu)|169.228.33.117|:80... connected.\n",
      "HTTP request sent, awaiting response... 200 OK\n",
      "Length: 5116056 (4.9M) [application/xml]\n",
      "Saving to: 'iJN746.xml'\n",
      "\n",
      "iJN746.xml          100%[===================>]   4.88M  5.69MB/s    in 0.9s    \n",
      "\n",
      "2022-08-14 11:56:49 (5.69 MB/s) - 'iJN746.xml' saved [5116056/5116056]\n",
      "\n",
      "--2022-08-14 11:56:49--  https://www.ebi.ac.uk/biomodels/model/download/MODEL1507180043.2?filename=MODEL1507180043_url.xml\n",
      "Resolving www.ebi.ac.uk (www.ebi.ac.uk)... 193.62.193.80\n",
      "Connecting to www.ebi.ac.uk (www.ebi.ac.uk)|193.62.193.80|:443... connected.\n",
      "HTTP request sent, awaiting response... 200 OK\n",
      "Length: unspecified [application/xml]\n",
      "Saving to: 'MODEL1507180043.2?filename=MODEL1507180043_url.xml'\n",
      "\n",
      "MODEL1507180043.2?f     [    <=>             ] 983.84K  1.03MB/s    in 0.9s    \n",
      "\n",
      "2022-08-14 11:56:51 (1.03 MB/s) - 'MODEL1507180043.2?filename=MODEL1507180043_url.xml' saved [1007454]\n",
      "\n"
     ]
    }
   ],
   "source": [
    "# Download Pseudomonas putida metabolic models\n",
    "! wget http://bigg.ucsd.edu/static/models/iJN746.xml \n",
    "! wget https://www.ebi.ac.uk/biomodels/model/download/MODEL1507180043.2?filename=MODEL1507180043_url.xml"
   ]
  },
  {
   "cell_type": "code",
   "execution_count": 13,
   "id": "b505e58c",
   "metadata": {},
   "outputs": [],
   "source": [
    "model = cobra.io.read_sbml_model('Downloads/iJN746.xml')\n",
    "model2 = cobra.io.read_sbml_model('Downloads/MODEL1507180043_url.xml')\n",
    "ecoli_model = load_model(\"iJO1366\")"
   ]
  },
  {
   "cell_type": "code",
   "execution_count": 17,
   "id": "d871106d",
   "metadata": {},
   "outputs": [],
   "source": [
    "model.reactions.EX_glc__D_e.bounds= (-18,0)\n",
    "model.reactions.EX_o2_e.bounds=(-20,0)\n",
    "#model.reactions.EX_tol_e.bounds=(-11.9,0)"
   ]
  },
  {
   "cell_type": "code",
   "execution_count": 18,
   "id": "bbc4d525",
   "metadata": {},
   "outputs": [],
   "source": [
    "nominal = model.optimize()\n",
    "loopless = loopless_solution(model)"
   ]
  },
  {
   "cell_type": "code",
   "execution_count": 19,
   "id": "32e12820",
   "metadata": {},
   "outputs": [
    {
     "data": {
      "text/html": [
       "<h3>Objective</h3><p>1.0 BIOMASS_KT_TEMP = 1.4</p><h4>Uptake</h4><table border=\"1\" class=\"dataframe\">\n",
       "  <thead>\n",
       "    <tr style=\"text-align: right;\">\n",
       "      <th>Metabolite</th>\n",
       "      <th>Reaction</th>\n",
       "      <th>Flux</th>\n",
       "      <th>C-Number</th>\n",
       "      <th>C-Flux</th>\n",
       "    </tr>\n",
       "  </thead>\n",
       "  <tbody>\n",
       "    <tr>\n",
       "      <td>fe2_e</td>\n",
       "      <td>EX_fe2_e</td>\n",
       "      <td>0.0014</td>\n",
       "      <td>0</td>\n",
       "      <td>0.00%</td>\n",
       "    </tr>\n",
       "    <tr>\n",
       "      <td>glc__D_e</td>\n",
       "      <td>EX_glc__D_e</td>\n",
       "      <td>8.262</td>\n",
       "      <td>6</td>\n",
       "      <td>87.72%</td>\n",
       "    </tr>\n",
       "    <tr>\n",
       "      <td>nh4_e</td>\n",
       "      <td>EX_nh4_e</td>\n",
       "      <td>14.44</td>\n",
       "      <td>0</td>\n",
       "      <td>0.00%</td>\n",
       "    </tr>\n",
       "    <tr>\n",
       "      <td>o2_e</td>\n",
       "      <td>EX_o2_e</td>\n",
       "      <td>4.065</td>\n",
       "      <td>0</td>\n",
       "      <td>0.00%</td>\n",
       "    </tr>\n",
       "    <tr>\n",
       "      <td>pi_e</td>\n",
       "      <td>EX_pi_e</td>\n",
       "      <td>1.072</td>\n",
       "      <td>0</td>\n",
       "      <td>0.00%</td>\n",
       "    </tr>\n",
       "    <tr>\n",
       "      <td>so4_e</td>\n",
       "      <td>EX_so4_e</td>\n",
       "      <td>0.3263</td>\n",
       "      <td>0</td>\n",
       "      <td>0.00%</td>\n",
       "    </tr>\n",
       "    <tr>\n",
       "      <td>mhpglu_c</td>\n",
       "      <td>SK_5mthglu_c</td>\n",
       "      <td>0.2744</td>\n",
       "      <td>25</td>\n",
       "      <td>12.14%</td>\n",
       "    </tr>\n",
       "    <tr>\n",
       "      <td>dna5mtc_c</td>\n",
       "      <td>SK_dna5mtc_c</td>\n",
       "      <td>0.007</td>\n",
       "      <td>11</td>\n",
       "      <td>0.14%</td>\n",
       "    </tr>\n",
       "  </tbody>\n",
       "</table><h4>Secretion</h4><table border=\"1\" class=\"dataframe\">\n",
       "  <thead>\n",
       "    <tr style=\"text-align: right;\">\n",
       "      <th>Metabolite</th>\n",
       "      <th>Reaction</th>\n",
       "      <th>Flux</th>\n",
       "      <th>C-Number</th>\n",
       "      <th>C-Flux</th>\n",
       "    </tr>\n",
       "  </thead>\n",
       "  <tbody>\n",
       "    <tr>\n",
       "      <td>co2_e</td>\n",
       "      <td>EX_co2_e</td>\n",
       "      <td>-2.919</td>\n",
       "      <td>1</td>\n",
       "      <td>28.15%</td>\n",
       "    </tr>\n",
       "    <tr>\n",
       "      <td>glyclt_e</td>\n",
       "      <td>EX_glyclt_e</td>\n",
       "      <td>-0.07</td>\n",
       "      <td>2</td>\n",
       "      <td>1.35%</td>\n",
       "    </tr>\n",
       "    <tr>\n",
       "      <td>h2o_e</td>\n",
       "      <td>EX_h2o_e</td>\n",
       "      <td>-30.52</td>\n",
       "      <td>0</td>\n",
       "      <td>0.00%</td>\n",
       "    </tr>\n",
       "    <tr>\n",
       "      <td>h_e</td>\n",
       "      <td>EX_h_e</td>\n",
       "      <td>-13.31</td>\n",
       "      <td>0</td>\n",
       "      <td>0.00%</td>\n",
       "    </tr>\n",
       "    <tr>\n",
       "      <td>hco3_e</td>\n",
       "      <td>EX_hco3_e</td>\n",
       "      <td>-0.6526</td>\n",
       "      <td>1</td>\n",
       "      <td>6.29%</td>\n",
       "    </tr>\n",
       "    <tr>\n",
       "      <td>dna_c</td>\n",
       "      <td>SK_dna_c</td>\n",
       "      <td>-0.007</td>\n",
       "      <td>10</td>\n",
       "      <td>0.68%</td>\n",
       "    </tr>\n",
       "    <tr>\n",
       "      <td>hpglu_c</td>\n",
       "      <td>SK_thglu_c</td>\n",
       "      <td>-0.2744</td>\n",
       "      <td>24</td>\n",
       "      <td>63.52%</td>\n",
       "    </tr>\n",
       "  </tbody>\n",
       "</table>"
      ],
      "text/plain": [
       "<cobra.summary.model_summary.ModelSummary at 0x7f676bdc5750>"
      ]
     },
     "execution_count": 19,
     "metadata": {},
     "output_type": "execute_result"
    }
   ],
   "source": [
    "model.summary()"
   ]
  },
  {
   "cell_type": "code",
   "execution_count": 20,
   "id": "b10ee37d",
   "metadata": {},
   "outputs": [
    {
     "name": "stdout",
     "output_type": "stream",
     "text": [
      "Downloading Map from https://escher.github.io/1-0-0/6/maps/Escherichia%20coli/iJO1366.Central%20metabolism.json\n"
     ]
    },
    {
     "data": {
      "application/vnd.jupyter.widget-view+json": {
       "model_id": "444266f339414210ae8120ad3221b0d7",
       "version_major": 2,
       "version_minor": 0
      },
      "text/plain": [
       "Builder(hide_secondary_metabolites=False, reaction_data={'EX_gly_e': 0.0, '3OAR141': 0.008399999999999927, 'EX…"
      ]
     },
     "metadata": {},
     "output_type": "display_data"
    }
   ],
   "source": [
    "b = escher.Builder(map_name='iJO1366.Central metabolism',\n",
    "                   reaction_data=loopless.fluxes,\n",
    "                   # color and size according to the absolute value\n",
    "                   reaction_styles=['color', 'size', 'abs', 'text'],\n",
    "                   # change the default colors\n",
    "                   reaction_scale=[{'type': 'min', 'color': '#cccccc', 'size': 4},\n",
    "                                   {'type': 'mean', 'color': '#0000dd', 'size': 20},\n",
    "                                   {'type': 'max', 'color': '#ff0000', 'size': 40}],\n",
    "                   # only show the primary metabolites\n",
    "                   hide_secondary_metabolites=False, \n",
    "                   show_gene_reaction_rules=True)\n",
    "b"
   ]
  },
  {
   "cell_type": "code",
   "execution_count": 21,
   "id": "218c93e6",
   "metadata": {},
   "outputs": [],
   "source": [
    "from cobra import Model, Reaction, Metabolite\n",
    "\n",
    "#https://www.ncbi.nlm.nih.gov/pmc/articles/PMC197239/?page=2\n",
    "\n",
    "npthl_e = Metabolite(\n",
    "    'npthl_e',\n",
    "    formula='C10H8',\n",
    "    name='Naphthalene',\n",
    "    compartment='e')\n",
    "\n",
    "npthl_c = Metabolite(\n",
    "    'npthl_c',\n",
    "    formula='C10H8',\n",
    "    name='Naphthalene',\n",
    "    compartment='c')\n",
    "\n",
    "reaction=Reaction('EX_npthl_e')\n",
    "reaction.name='Naphthalene exchange'\n",
    "reaction.subsystem='NAH7 pathway'\n",
    "reaction.lower_bound=-100\n",
    "reaction.upper_bound=0\n",
    "reaction.add_metabolites({npthl_e:-1,})\n",
    "model.add_reaction(reaction)\n",
    "\n",
    "reaction=Reaction('NPTHLt2')\n",
    "reaction.name='Naphthalene Transport'\n",
    "reaction.subsystem='NAH7 pathway'\n",
    "reaction.lower_bound=-1000\n",
    "reaction.upper_bound=1000\n",
    "reaction.add_metabolites({npthl_c:-1,npthl_e:1})\n",
    "model.add_reaction(reaction)\n",
    "\n",
    "dhnpthld_c = Metabolite(\n",
    "    'dhnpthld_c',\n",
    "    formula='C10H10O2',\n",
    "    name='1,2-Dihydronaphthalene-1,2-diol',\n",
    "    compartment='c')\n",
    "\n",
    "\n",
    "\n",
    "reaction=Reaction('NAPDO')\n",
    "reaction.name='Naphthalene 1,2-dioxygenase'\n",
    "reaction.subsystem='NAH7 pathway'\n",
    "reaction.lower_bound=-1000\n",
    "reaction.upper_bound=1000\n",
    "reaction.add_metabolites({model.metabolites.npthl_c:-1,\n",
    "                          model.metabolites.nadh_c:-1,\n",
    "                          model.metabolites.h_c:-1,\n",
    "                          model.metabolites.o2_c:-1,\n",
    "                          model.metabolites.nad_c:1,\n",
    "                          dhnpthld_c:1})\n",
    "model.add_reaction(reaction)\n",
    "\n",
    "\n",
    "npthld_c = Metabolite(\n",
    "    'npthld_c',\n",
    "    formula='C10H8O2',\n",
    "    name='Naphthalene-1,2-diol',\n",
    "    compartment='c')\n",
    "\n",
    "reaction=Reaction('DHDDH')\n",
    "reaction.name='Dihydrodiol dehydrogenase'\n",
    "reaction.subsystem='NAH7 pathway'\n",
    "reaction.lower_bound=-1000\n",
    "reaction.upper_bound=1000\n",
    "reaction.add_metabolites({model.metabolites.nad_c:-1,\n",
    "                          model.metabolites.nadh_c:1,\n",
    "                          model.metabolites.h_c:1,\n",
    "                          model.metabolites.dhnpthld_c:-1,\n",
    "                          npthld_c:1})\n",
    "model.add_reaction(reaction)\n",
    "\n",
    "# not in BIGG\n",
    "hychr2c_c = Metabolite(\n",
    "    'hychr2c_c',\n",
    "    formula='C10H7O4',\n",
    "    name='2-Hydroxychromene-2-carboxylate',\n",
    "    compartment='c')\n",
    "\n",
    "reaction=Reaction('DHNDO')\n",
    "reaction.name='Dihydroxynaphthalene dioxygenase '\n",
    "reaction.subsystem='NAH7 pathway'\n",
    "reaction.lower_bound=-1000\n",
    "reaction.upper_bound=1000\n",
    "reaction.add_metabolites({model.metabolites.npthld_c:-1,\n",
    "                          model.metabolites.o2_c:-1,\n",
    "                          model.metabolites.h_c:1,\n",
    "                          hychr2c_c:1})\n",
    "model.add_reaction(reaction)\n",
    "\n",
    "# not in BIGG\n",
    "hphobut3en_c= Metabolite(\n",
    "    'hphobut3en_c',\n",
    "    formula='C10H7O4',\n",
    "    name='2-hydroxyphenyl-2-oxobut-3-enoate',\n",
    "    compartment='c')\n",
    "\n",
    "reaction=Reaction('HCCA')\n",
    "reaction.name='2-hydroxychromene-2-carboxylate isomerase'\n",
    "reaction.subsystem='NAH7 pathway'\n",
    "reaction.lower_bound=-1000\n",
    "reaction.upper_bound=1000\n",
    "reaction.add_metabolites({model.metabolites.hychr2c_c:-1,\n",
    "                          hphobut3en_c:1})\n",
    "model.add_reaction(reaction)\n",
    "\n",
    "# not in BIGG\n",
    "hbald_c= Metabolite(\n",
    "    'hbald_c',\n",
    "    name='2-hydroxybenzaldehyde',\n",
    "    formula='C7H6O2',\n",
    "    compartment='c')\n",
    "\n",
    "reaction=Reaction('tHBPAHA')\n",
    "reaction.name='Trans-o-hydroxybenzylidenepyruvate hydratase-aldolase'\n",
    "reaction.subsystem='NAH7 pathway'\n",
    "reaction.lower_bound=-1000\n",
    "reaction.upper_bound=1000\n",
    "reaction.add_metabolites({model.metabolites.hphobut3en_c:-1,\n",
    "                          model.metabolites.h2o_c:-1,\n",
    "                          model.metabolites.pyr_c:1,\n",
    "                          hbald_c:1})\n",
    "model.add_reaction(reaction)\n",
    "\n",
    "\n",
    "\n",
    "salc_c = Metabolite(\n",
    "    'salc_c',\n",
    "    formula='C7H5O3',\n",
    "    name='Salicylate',\n",
    "    compartment='c')\n",
    "\n",
    "reaction=Reaction('SALDH')\n",
    "reaction.name='salicylaldehyde dehydrogenase'\n",
    "reaction.subsystem='NAH7 pathway'\n",
    "reaction.lower_bound=-1000\n",
    "reaction.upper_bound=1000\n",
    "reaction.add_metabolites({model.metabolites.hbald_c:-1,\n",
    "                          model.metabolites.nad_c:-1,\n",
    "                          model.metabolites.h2o_c:-1,\n",
    "                          model.metabolites.nadh_c:1,\n",
    "                          model.metabolites.h_c:2,\n",
    "                          salc_c:1})\n",
    "model.add_reaction(reaction)\n",
    "\n",
    "\n",
    "\n",
    "reaction=Reaction('SALCOD')\n",
    "reaction.name= 'Salicylate NADH oxygenoxidoreductase 1-hydroxylating'\n",
    "reaction.subsystem='NAH7 pathway'\n",
    "reaction.lower_bound=-1000\n",
    "reaction.upper_bound=1000\n",
    "\n",
    "\n",
    "reaction.add_metabolites({\n",
    "    model.metabolites.h_c:-2,\n",
    "    model.metabolites.co2_c:1,\n",
    "    model.metabolites.h2o_c:1, \n",
    "    model.metabolites.nad_c:1, \n",
    "    model.metabolites.nadh_c:-1,\n",
    "    model.metabolites.o2_c:-1,\n",
    "    salc_c:-1,\n",
    "    model.metabolites.catechol_c:1})\n",
    "model.add_reaction(reaction)\n"
   ]
  },
  {
   "cell_type": "code",
   "execution_count": 22,
   "id": "f22b4397",
   "metadata": {},
   "outputs": [],
   "source": [
    "model.reactions.EX_glc__D_e.bounds= (0,0)\n",
    "nominal = model.optimize()\n",
    "loopless = loopless_solution(model)"
   ]
  },
  {
   "cell_type": "code",
   "execution_count": 23,
   "id": "4ecf9ab9",
   "metadata": {},
   "outputs": [
    {
     "data": {
      "text/html": [
       "<h3>Objective</h3><p>1.0 BIOMASS_KT_TEMP = 1.2126984565865426</p><h4>Uptake</h4><table border=\"1\" class=\"dataframe\">\n",
       "  <thead>\n",
       "    <tr style=\"text-align: right;\">\n",
       "      <th>Metabolite</th>\n",
       "      <th>Reaction</th>\n",
       "      <th>Flux</th>\n",
       "      <th>C-Number</th>\n",
       "      <th>C-Flux</th>\n",
       "    </tr>\n",
       "  </thead>\n",
       "  <tbody>\n",
       "    <tr>\n",
       "      <td>fe2_e</td>\n",
       "      <td>EX_fe2_e</td>\n",
       "      <td>0.001213</td>\n",
       "      <td>0</td>\n",
       "      <td>0.00%</td>\n",
       "    </tr>\n",
       "    <tr>\n",
       "      <td>nh4_e</td>\n",
       "      <td>EX_nh4_e</td>\n",
       "      <td>12.51</td>\n",
       "      <td>0</td>\n",
       "      <td>0.00%</td>\n",
       "    </tr>\n",
       "    <tr>\n",
       "      <td>npthl_e</td>\n",
       "      <td>EX_npthl_e</td>\n",
       "      <td>4.944</td>\n",
       "      <td>10</td>\n",
       "      <td>89.16%</td>\n",
       "    </tr>\n",
       "    <tr>\n",
       "      <td>o2_e</td>\n",
       "      <td>EX_o2_e</td>\n",
       "      <td>20</td>\n",
       "      <td>0</td>\n",
       "      <td>0.00%</td>\n",
       "    </tr>\n",
       "    <tr>\n",
       "      <td>pi_e</td>\n",
       "      <td>EX_pi_e</td>\n",
       "      <td>0.9282</td>\n",
       "      <td>0</td>\n",
       "      <td>0.00%</td>\n",
       "    </tr>\n",
       "    <tr>\n",
       "      <td>so4_e</td>\n",
       "      <td>EX_so4_e</td>\n",
       "      <td>0.2826</td>\n",
       "      <td>0</td>\n",
       "      <td>0.00%</td>\n",
       "    </tr>\n",
       "    <tr>\n",
       "      <td>mhpglu_c</td>\n",
       "      <td>SK_5mthglu_c</td>\n",
       "      <td>0.2377</td>\n",
       "      <td>25</td>\n",
       "      <td>10.72%</td>\n",
       "    </tr>\n",
       "    <tr>\n",
       "      <td>dna5mtc_c</td>\n",
       "      <td>SK_dna5mtc_c</td>\n",
       "      <td>0.006063</td>\n",
       "      <td>11</td>\n",
       "      <td>0.12%</td>\n",
       "    </tr>\n",
       "  </tbody>\n",
       "</table><h4>Secretion</h4><table border=\"1\" class=\"dataframe\">\n",
       "  <thead>\n",
       "    <tr style=\"text-align: right;\">\n",
       "      <th>Metabolite</th>\n",
       "      <th>Reaction</th>\n",
       "      <th>Flux</th>\n",
       "      <th>C-Number</th>\n",
       "      <th>C-Flux</th>\n",
       "    </tr>\n",
       "  </thead>\n",
       "  <tbody>\n",
       "    <tr>\n",
       "      <td>co2_e</td>\n",
       "      <td>EX_co2_e</td>\n",
       "      <td>-9.149</td>\n",
       "      <td>1</td>\n",
       "      <td>59.11%</td>\n",
       "    </tr>\n",
       "    <tr>\n",
       "      <td>h2o_e</td>\n",
       "      <td>EX_h2o_e</td>\n",
       "      <td>-3.395</td>\n",
       "      <td>0</td>\n",
       "      <td>0.00%</td>\n",
       "    </tr>\n",
       "    <tr>\n",
       "      <td>h_e</td>\n",
       "      <td>EX_h_e</td>\n",
       "      <td>-11.47</td>\n",
       "      <td>0</td>\n",
       "      <td>0.00%</td>\n",
       "    </tr>\n",
       "    <tr>\n",
       "      <td>hco3_e</td>\n",
       "      <td>EX_hco3_e</td>\n",
       "      <td>-0.5653</td>\n",
       "      <td>1</td>\n",
       "      <td>3.65%</td>\n",
       "    </tr>\n",
       "    <tr>\n",
       "      <td>dna_c</td>\n",
       "      <td>SK_dna_c</td>\n",
       "      <td>-0.006063</td>\n",
       "      <td>10</td>\n",
       "      <td>0.39%</td>\n",
       "    </tr>\n",
       "    <tr>\n",
       "      <td>hpglu_c</td>\n",
       "      <td>SK_thglu_c</td>\n",
       "      <td>-0.2377</td>\n",
       "      <td>24</td>\n",
       "      <td>36.85%</td>\n",
       "    </tr>\n",
       "  </tbody>\n",
       "</table>"
      ],
      "text/plain": [
       "<cobra.summary.model_summary.ModelSummary at 0x7f676cfcc040>"
      ]
     },
     "execution_count": 23,
     "metadata": {},
     "output_type": "execute_result"
    }
   ],
   "source": [
    "model.summary()"
   ]
  },
  {
   "cell_type": "code",
   "execution_count": 24,
   "id": "02ab945a",
   "metadata": {},
   "outputs": [
    {
     "name": "stdout",
     "output_type": "stream",
     "text": [
      "Downloading Map from https://escher.github.io/1-0-0/6/maps/Escherichia%20coli/iJO1366.Central%20metabolism.json\n"
     ]
    },
    {
     "data": {
      "application/vnd.jupyter.widget-view+json": {
       "model_id": "0e432124cb19433c8f5fee81828f89f6",
       "version_major": 2,
       "version_minor": 0
      },
      "text/plain": [
       "Builder(hide_secondary_metabolites=False, reaction_data={'EX_gly_e': 0.0, '3OAR141': 0.007276190739519266, 'EX…"
      ]
     },
     "metadata": {},
     "output_type": "display_data"
    }
   ],
   "source": [
    "b = escher.Builder(map_name='iJO1366.Central metabolism',\n",
    "                   reaction_data=loopless.fluxes,\n",
    "                   # color and size according to the absolute value\n",
    "                   reaction_styles=['color', 'size', 'abs', 'text'],\n",
    "                   # change the default colors\n",
    "                   reaction_scale=[{'type': 'min', 'color': '#cccccc', 'size': 4},\n",
    "                                   {'type': 'mean', 'color': '#0000dd', 'size': 20},\n",
    "                                   {'type': 'max', 'color': '#ff0000', 'size': 40}],\n",
    "                   # only show the primary metabolites\n",
    "                   hide_secondary_metabolites=False, \n",
    "                   show_gene_reaction_rules=True)\n",
    "b"
   ]
  },
  {
   "cell_type": "code",
   "execution_count": 166,
   "id": "82deb750",
   "metadata": {},
   "outputs": [
    {
     "data": {
      "text/plain": [
       "'npthl_c <=> npthl_e'"
      ]
     },
     "execution_count": 166,
     "metadata": {},
     "output_type": "execute_result"
    }
   ],
   "source": [
    "model.reactions.NPTHLt2.reaction"
   ]
  },
  {
   "cell_type": "code",
   "execution_count": 159,
   "id": "b9df1b63",
   "metadata": {},
   "outputs": [
    {
     "data": {
      "text/plain": [
       "'h_c + nadh_c + npthl_c + o2_c <=> dhnpthld_c + nad_c'"
      ]
     },
     "execution_count": 159,
     "metadata": {},
     "output_type": "execute_result"
    }
   ],
   "source": [
    "model.reactions.NAPDO.reaction"
   ]
  },
  {
   "cell_type": "code",
   "execution_count": 160,
   "id": "deaf6646",
   "metadata": {},
   "outputs": [
    {
     "data": {
      "text/plain": [
       "'dhnpthld_c + nad_c <=> h_c + nadh_c + npthld_c'"
      ]
     },
     "execution_count": 160,
     "metadata": {},
     "output_type": "execute_result"
    }
   ],
   "source": [
    "model.reactions.DHDDH.reaction"
   ]
  },
  {
   "cell_type": "code",
   "execution_count": 161,
   "id": "8fce15d7",
   "metadata": {},
   "outputs": [
    {
     "data": {
      "text/plain": [
       "'npthld_c + o2_c <=> h_c + hychr2c_c'"
      ]
     },
     "execution_count": 161,
     "metadata": {},
     "output_type": "execute_result"
    }
   ],
   "source": [
    "model.reactions.DHNDO.reaction"
   ]
  },
  {
   "cell_type": "code",
   "execution_count": 162,
   "id": "a5d4768b",
   "metadata": {},
   "outputs": [
    {
     "data": {
      "text/plain": [
       "'hychr2c_c <=> hphobut3en_c'"
      ]
     },
     "execution_count": 162,
     "metadata": {},
     "output_type": "execute_result"
    }
   ],
   "source": [
    "model.reactions.HCCA.reaction"
   ]
  },
  {
   "cell_type": "code",
   "execution_count": 163,
   "id": "68965001",
   "metadata": {},
   "outputs": [
    {
     "data": {
      "text/plain": [
       "'h2o_c + hphobut3en_c <=> hbald_c + pyr_c'"
      ]
     },
     "execution_count": 163,
     "metadata": {},
     "output_type": "execute_result"
    }
   ],
   "source": [
    "model.reactions.tHBPAHA.reaction"
   ]
  },
  {
   "cell_type": "code",
   "execution_count": 164,
   "id": "b69ca572",
   "metadata": {},
   "outputs": [
    {
     "data": {
      "text/plain": [
       "'h2o_c + hbald_c + nad_c <=> 2 h_c + nadh_c + salc_c'"
      ]
     },
     "execution_count": 164,
     "metadata": {},
     "output_type": "execute_result"
    }
   ],
   "source": [
    "model.reactions.SALDH.reaction"
   ]
  },
  {
   "cell_type": "code",
   "execution_count": 165,
   "id": "31b2a68e",
   "metadata": {},
   "outputs": [
    {
     "data": {
      "text/plain": [
       "'2 h_c + nadh_c + o2_c + salc_c <=> catechol_c + co2_c + h2o_c + nad_c'"
      ]
     },
     "execution_count": 165,
     "metadata": {},
     "output_type": "execute_result"
    }
   ],
   "source": [
    "model.reactions.SALCOD.reaction"
   ]
  },
  {
   "cell_type": "code",
   "execution_count": 127,
   "id": "4d78ce84",
   "metadata": {},
   "outputs": [
    {
     "data": {
      "text/plain": [
       "'catechol_c + o2_c --> 2hmcnsad_c'"
      ]
     },
     "execution_count": 127,
     "metadata": {},
     "output_type": "execute_result"
    }
   ],
   "source": [
    "model.reactions.CAT23DOX.reaction"
   ]
  },
  {
   "cell_type": "code",
   "execution_count": 123,
   "id": "040fec71",
   "metadata": {},
   "outputs": [
    {
     "data": {
      "text/plain": [
       "'2hmcnsad_c + h2o_c --> for_c + 2.0 h_c + op4en_c'"
      ]
     },
     "execution_count": 123,
     "metadata": {},
     "output_type": "execute_result"
    }
   ],
   "source": [
    "model.reactions.HMSH.reaction"
   ]
  },
  {
   "cell_type": "code",
   "execution_count": 185,
   "id": "73e553d7",
   "metadata": {},
   "outputs": [
    {
     "data": {
      "text/plain": [
       "'h2o_c + op4en_c --> 4h2opntn_c'"
      ]
     },
     "execution_count": 185,
     "metadata": {},
     "output_type": "execute_result"
    }
   ],
   "source": [
    "model.reactions.OP4ENH.reaction"
   ]
  },
  {
   "cell_type": "code",
   "execution_count": 186,
   "id": "1444bec9",
   "metadata": {},
   "outputs": [
    {
     "data": {
      "text/plain": [
       "'4h2opntn_c --> acald_c + pyr_c'"
      ]
     },
     "execution_count": 186,
     "metadata": {},
     "output_type": "execute_result"
    }
   ],
   "source": [
    "model.reactions.HOPNTAL.reaction"
   ]
  },
  {
   "cell_type": "code",
   "execution_count": 9,
   "id": "3d87c7be",
   "metadata": {},
   "outputs": [
    {
     "data": {
      "text/plain": [
       "('acald_c + coa_c + nad_c <=> accoa_c + h_c + nadh_c', 92.13744242259288)"
      ]
     },
     "execution_count": 9,
     "metadata": {},
     "output_type": "execute_result"
    }
   ],
   "source": [
    "model.reactions.ACALD.reaction,loopless.fluxes.ACALD"
   ]
  },
  {
   "cell_type": "code",
   "execution_count": 10,
   "id": "5ee75682",
   "metadata": {},
   "outputs": [
    {
     "data": {
      "text/plain": [
       "('accoa_c + pi_c <=> actp_c + coa_c', 85.18799888140666)"
      ]
     },
     "execution_count": 10,
     "metadata": {},
     "output_type": "execute_result"
    }
   ],
   "source": [
    "model.reactions.PTAr.reaction,loopless.fluxes.PTAr"
   ]
  },
  {
   "cell_type": "code",
   "execution_count": 11,
   "id": "438e13b6",
   "metadata": {},
   "outputs": [
    {
     "data": {
      "text/plain": [
       "('ac_c + atp_c <=> actp_c + adp_c', -85.18799888140666)"
      ]
     },
     "execution_count": 11,
     "metadata": {},
     "output_type": "execute_result"
    }
   ],
   "source": [
    "model.reactions.ACKr.reaction,loopless.fluxes.ACKr"
   ]
  },
  {
   "cell_type": "code",
   "execution_count": 12,
   "id": "6baba8fb",
   "metadata": {},
   "outputs": [
    {
     "data": {
      "text/plain": [
       "('acald_c + h2o_c + nad_c <=> ac_c + 2.0 h_c + nadh_c', -88.39294746723655)"
      ]
     },
     "execution_count": 12,
     "metadata": {},
     "output_type": "execute_result"
    }
   ],
   "source": [
    "model.reactions.ALDD2x_copy2.reaction,loopless.fluxes.ALDD2x_copy2\n"
   ]
  },
  {
   "cell_type": "code",
   "execution_count": 25,
   "id": "21c111d7",
   "metadata": {},
   "outputs": [],
   "source": [
    "model.reactions.ALDD2x_copy2.bounds=(0,0)"
   ]
  },
  {
   "cell_type": "code",
   "execution_count": 26,
   "id": "26470a4c",
   "metadata": {},
   "outputs": [
    {
     "name": "stderr",
     "output_type": "stream",
     "text": [
      "/home/zeugir/.local/lib/python3.10/site-packages/cobra/util/solver.py:554: UserWarning: Solver status is 'infeasible'.\n",
      "  warn(f\"Solver status is '{status}'.\", UserWarning)\n"
     ]
    }
   ],
   "source": [
    "nominal = model.optimize()"
   ]
  },
  {
   "cell_type": "code",
   "execution_count": 28,
   "id": "2d324588",
   "metadata": {},
   "outputs": [],
   "source": [
    "#DHNDO,HCCA,tHBPAHA,SALDH\n",
    "napthalene_reactions=['NAPDO','DHDDH','DHNDO','HCCA','tHBPAHA','SALDH',\n",
    "                      'SALCOD',\n",
    "               'CAT23DOX','HMSH','OP4ENH','HOPNTAL','ACALD',\n",
    "               'PTAr','ACKr']"
   ]
  },
  {
   "cell_type": "code",
   "execution_count": null,
   "id": "1c5eb164",
   "metadata": {},
   "outputs": [],
   "source": []
  },
  {
   "cell_type": "code",
   "execution_count": 31,
   "id": "58253b29",
   "metadata": {},
   "outputs": [],
   "source": [
    "# Calculate Gibbs Free energy of reactions \n",
    "from equilibrator_api import ComponentContribution, Q_\n",
    "from equilibrator_api import Reaction\n",
    "cc = ComponentContribution()\n",
    "standard_dg_prime=[]\n",
    "\n",
    "NAPDO_reaction = Reaction({\n",
    "    cc.get_compound(\"kegg:C00829\"):-1,\n",
    "    cc.get_compound(\"bigg.metabolite:h\"):-1,\n",
    "    cc.get_compound(\"bigg.metabolite:nadh\"):-1,\n",
    "    cc.get_compound(\"bigg.metabolite:o2\"):-1,\n",
    "    cc.get_compound(\"bigg.metabolite:nad\"):1,\n",
    "    cc.get_compound(\"kegg:C06205\"):1})\n",
    "standard_dg_prime.append(cc.standard_dg_prime(NAPDO_reaction))\n",
    "\n",
    "for r in napthalene_reactions[1:2]:\n",
    "    tmp=model.reactions.get_by_id(r).metabolites\n",
    "    tmp2 = Reaction({cc.get_compound(f\"bigg.metabolite:{(str(k).split('_',1)[0])}\"):v for k,v in tmp.items()})\n",
    "    standard_dg_prime.append(cc.standard_dg_prime(tmp2))\n",
    "    \n",
    "DHNDO_reaction = Reaction({\n",
    "    cc.get_compound(\"bigg.metabolite:npthld\"):-1,\n",
    "    cc.get_compound(\"bigg.metabolite:o2\"):-1,\n",
    "    cc.get_compound(\"bigg.metabolite:h\"):1,\n",
    "    cc.get_compound(\"kegg:C06204\"):1})\n",
    "standard_dg_prime.append(cc.standard_dg_prime(DHNDO_reaction))\n",
    "\n",
    "\n",
    "HCCA_reaction = Reaction({\n",
    "    cc.get_compound(\"kegg:C06204\"):-1,\n",
    "    cc.get_compound(\"kegg:C06203\"):1})\n",
    "standard_dg_prime.append(cc.standard_dg_prime(HCCA_reaction))\n",
    "\n",
    "tHBPAHA_reaction = Reaction({\n",
    "    cc.get_compound(\"bigg.metabolite:h2o\"):-1,\n",
    "    cc.get_compound(\"kegg:C06203\"):-1,\n",
    "    cc.get_compound(\"bigg.metabolite:pyr\"):1,\n",
    "    cc.get_compound(\"kegg:C06202\"):1})\n",
    "standard_dg_prime.append(cc.standard_dg_prime(tHBPAHA_reaction))\n",
    "\n",
    "SALDH_reaction = Reaction({\n",
    "    cc.get_compound(\"bigg.metabolite:h2o\"):-1,\n",
    "    cc.get_compound(\"bigg.metabolite:nad\"):-1,\n",
    "    cc.get_compound(\"kegg:C06202\"):-1,\n",
    "    cc.get_compound(\"bigg.metabolite:salc\"):1,\n",
    "    cc.get_compound(\"bigg.metabolite:h\"):2,\n",
    "    cc.get_compound(\"bigg.metabolite:nadh\"):1})\n",
    "standard_dg_prime.append(cc.standard_dg_prime(SALDH_reaction))\n",
    "\n",
    "for r in napthalene_reactions[6:]:\n",
    "    tmp=model.reactions.get_by_id(r).metabolites\n",
    "    tmp2 = Reaction({cc.get_compound(f\"bigg.metabolite:{(str(k).split('_',1)[0])}\"):v for k,v in tmp.items()})\n",
    "    standard_dg_prime.append(cc.standard_dg_prime(tmp2))"
   ]
  },
  {
   "cell_type": "code",
   "execution_count": 223,
   "id": "f8c79b92",
   "metadata": {},
   "outputs": [
    {
     "data": {
      "text/plain": [
       "{'NAPDO': <Measurement(-340.7110414527393, 8.94220172301959, kilojoule / mole)>,\n",
       " 'DHDDH': <Measurement(-88.17331630934939, 7.95652863434189, kilojoule / mole)>,\n",
       " 'DHNDO': <Measurement(-364.12488920485464, 6.800377324646281, kilojoule / mole)>,\n",
       " 'HCCA': <Measurement(65.30509893913063, 5.544896322929177, kilojoule / mole)>,\n",
       " 'tHBPAHA': <Measurement(11.807994161697707, 2.059580492552509, kilojoule / mole)>,\n",
       " 'SALDH': <Measurement(-43.5175704718049, 1.0896565729574628, kilojoule / mole)>,\n",
       " 'SALCOD': <Measurement(-447.552877793777, 4.936570293334901, kilojoule / mole)>,\n",
       " 'CAT23DOX': <Measurement(-262.46956871160546, 5.836146439212474, kilojoule / mole)>,\n",
       " 'HMSH': <Measurement(-44.155352634573546, 1.7599124696207256, kilojoule / mole)>,\n",
       " 'OP4ENH': <Measurement(0.43160394224855736, 1.4927180898117225, kilojoule / mole)>,\n",
       " 'HOPNTAL': <Measurement(11.71983755028944, 1.7455924013436208, kilojoule / mole)>,\n",
       " 'ACALD': <Measurement(-20.67776918543086, 1.2002872522442232, kilojoule / mole)>,\n",
       " 'PTAr': <Measurement(8.672467245030703, 0.6064527563143826, kilojoule / mole)>,\n",
       " 'ACKr': <Measurement(13.990414860694386, 0.5495866610344512, kilojoule / mole)>,\n",
       " 'ALDD2x_copy2': <Measurement(-55.637470075038664, 1.2902400794969096, kilojoule / mole)>}"
      ]
     },
     "execution_count": 223,
     "metadata": {},
     "output_type": "execute_result"
    }
   ],
   "source": [
    "{napthalene_reactions[i]: standard_dg_prime[i] for i in range(len(standard_dg_prime))}"
   ]
  }
 ],
 "metadata": {
  "kernelspec": {
   "display_name": "Python 3 (ipykernel)",
   "language": "python",
   "name": "python3"
  },
  "language_info": {
   "codemirror_mode": {
    "name": "ipython",
    "version": 3
   },
   "file_extension": ".py",
   "mimetype": "text/x-python",
   "name": "python",
   "nbconvert_exporter": "python",
   "pygments_lexer": "ipython3",
   "version": "3.10.4"
  }
 },
 "nbformat": 4,
 "nbformat_minor": 5
}
